{
 "cells": [
  {
   "cell_type": "code",
   "execution_count": 3,
   "metadata": {},
   "outputs": [
    {
     "name": "stdout",
     "output_type": "stream",
     "text": [
      "axis=[VdsAxis(annotation='Inline', max=217.0, min=0.0, samples=218, unit='unitless'), VdsAxis(annotation='Crossline', max=137.0, min=0.0, samples=138, unit='unitless'), VdsAxis(annotation='Sample', max=1999.0, min=1500.0, samples=500, unit='ms')] boundingBox=VdsBoundingBox(cdp=[[461484.34, 5926563.2], [456083.37, 5936006.48], [462069.5080733945, 5939430.173027524], [467470.4780733945, 5929986.8930275235]], ij=[[0.0, 0.0], [217.0, 0.0], [217.0, 137.0], [0.0, 137.0]], ilxl=[[0.0, 0.0], [217.0, 0.0], [217.0, 137.0], [0.0, 137.0]]) crs=''\n",
      "Vds Access coordinate system: \n",
      "Sumo case coordinate system: ST_WGS84_UTM37N_P32637\n",
      "Flattened fence traces array: [0. 0. 0. ... 0. 0. 0.]\n",
      "Number of traces: 4\n",
      "Number of samples in trace: 500\n"
     ]
    },
    {
     "data": {
      "text/plain": [
       "[['t11', 't12', 't13'], ['t21', 't22', 't23'], ['t31', 't32', 't33']]"
      ]
     },
     "metadata": {},
     "output_type": "display_data"
    },
    {
     "data": {
      "text/plain": [
       "array(['t11', 't12', 't13', 't21', 't22', 't23', 't31', 't32', 't33'],\n",
       "      dtype='<U3')"
      ]
     },
     "metadata": {},
     "output_type": "display_data"
    },
    {
     "data": {
      "text/plain": [
       "array(['t11', 't21', 't31', 't12', 't22', 't32', 't13', 't23', 't33'],\n",
       "      dtype='<U3')"
      ]
     },
     "metadata": {},
     "output_type": "display_data"
    }
   ],
   "source": [
    "# Set env variable before import of vds_access!\n",
    "import os\n",
    "os.environ[\"WEBVIZ_VDS_HOST_ADDRESS\"] = \"https://server-oneseismictest-dev.playground.radix.equinor.com\"\n",
    "\n",
    "from sumo.wrapper import SumoClient\n",
    "\n",
    "\n",
    "# from fmu.sumo.explorer import Explorer\n",
    "# from fmu.sumo.explorer.objects.cube_collection import CubeCollection\n",
    "from fmu.sumo.explorer.objects import CaseCollection\n",
    "\n",
    "from services.vds_access.vds_access import VdsAccess\n",
    "# from services.vds_access. import VdsMetadata\n",
    "from services.sumo_access.seismic_access import SeismicAccess\n",
    "from services.vds_access.request_types import VdsCoordinates\n",
    "from services.vds_access.response_types import VdsMetadata\n",
    "\n",
    "from src.services.sumo_access._helpers import SumoCase\n",
    "\n",
    "\n",
    "import numpy as np\n",
    "\n",
    "\n",
    "\n",
    "# Test data\n",
    "case_uuid = \"c619f32d-3ada-4e5e-8d3c-330f940e88f8\"\n",
    "realization = 0\n",
    "iteration = \"iter-0\"\n",
    "cube_tagname = \"amplitude_far_time\"\n",
    "timestep = None\n",
    "timestamp = \"2018-01-01T00:00:00\"\n",
    "observed = False\n",
    "\n",
    "sumo_client = SumoClient(env=\"prod\")\n",
    "case_collection = CaseCollection(sumo_client).filter(uuid=case_uuid) # Existing working case\n",
    "case = case_collection[0]\n",
    "\n",
    "sumo_case = await SumoCase.from_case_uuid(sumo_client.authenticate(), case_uuid=case_uuid)\n",
    "\n",
    "# Setup\n",
    "seismic_access = SeismicAccess(sumo_client=sumo_client, case=case, case_uuid=case_uuid, iteration_name=iteration)\n",
    "\n",
    "vds_handle = await seismic_access.get_vds_handle(seismic_attribute=cube_tagname,realization=realization, time_or_interval_str=timestamp)\n",
    "vds_access = VdsAccess(sas_token=vds_handle.sas_token, vds_url=vds_handle.vds_url)\n",
    "\n",
    "\n",
    "\n",
    "x_points = [463156.911, 463564.402, 463637.925, 463690.658, 463910.452]\n",
    "y_points = [5929542.294, 5931057.803, 5931184.235, 5931278.837, 5931688.122]\n",
    "\n",
    "x_points = [463156.911, 463564.402, 463637.925, 463690.658]\n",
    "y_points = [5929542.294, 5931057.803, 5931184.235, 5931278.837,]\n",
    "\n",
    "[\n",
    "    flattened_fence_traces_array,\n",
    "    num_traces,\n",
    "    num_trace_samples,\n",
    "]  = await vds_access.get_flattened_fence_traces_array_and_metadata(coordinates=VdsCoordinates(x_points=x_points, y_points=y_points))\n",
    "\n",
    "\n",
    "meta: VdsMetadata = await vds_access.get_metadata()\n",
    "if len(meta.axis) != 3:\n",
    "    raise ValueError(f\"Expected 3 axes, got {len(meta.axis)}\")\n",
    "depth_axis_meta = meta.axis[2]\n",
    "print(meta)\n",
    "print(f'Vds Access coordinate system: {meta.crs}')\n",
    "\n",
    "# coordinate_system = await sumo_case.get_coordinate_system_identifier()\n",
    "# print(f'Sumo case coordinate system: {coordinate_system}')\n",
    "\n",
    "print(f'Flattened fence traces array: {flattened_fence_traces_array}')\n",
    "print(f'Number of traces: {num_traces}')\n",
    "print(f'Number of samples in trace: {num_trace_samples}')\n",
    "\n",
    "\n",
    "# Test code:\n",
    "test_array = [[\"t11\",\"t12\",\"t13\"], [\"t21\",\"t22\",\"t23\"], [\"t31\",\"t32\",\"t33\"]]\n",
    "test_flattened_array_C = np.asarray(test_array).ravel(order='C')\n",
    "test_flattened_array_F = np.asarray(test_array).ravel(order='F')\n",
    "display(test_array)\n",
    "display(test_flattened_array_C)\n",
    "display(test_flattened_array_F)\n",
    "\n",
    "\n"
   ]
  }
 ],
 "metadata": {
  "kernelspec": {
   "display_name": "backend-ODIrNPVE-py3.11",
   "language": "python",
   "name": "python3"
  },
  "language_info": {
   "codemirror_mode": {
    "name": "ipython",
    "version": 3
   },
   "file_extension": ".py",
   "mimetype": "text/x-python",
   "name": "python",
   "nbconvert_exporter": "python",
   "pygments_lexer": "ipython3",
   "version": "3.11.5"
  }
 },
 "nbformat": 4,
 "nbformat_minor": 2
}
