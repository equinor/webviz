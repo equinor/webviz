{
 "cells": [
  {
   "cell_type": "code",
   "execution_count": 1,
   "metadata": {},
   "outputs": [
    {
     "name": "stdout",
     "output_type": "stream",
     "text": [
      "RESOURCE_SCOPES_DICT={'sumo': ['api://88d2b022-3539-4dda-9e66-853801334a86/access_as_user'], 'smda': ['api://691a29c5-8199-4e87-80a2-16bd71e831cd/user_impersonation']}\n"
     ]
    },
    {
     "ename": "TypeError",
     "evalue": "VdsAccess.__init__() missing 1 required positional argument: 'vds_url'",
     "output_type": "error",
     "traceback": [
      "\u001b[0;31m---------------------------------------------------------------------------\u001b[0m",
      "\u001b[0;31mTypeError\u001b[0m                                 Traceback (most recent call last)",
      "\u001b[1;32m/home/jorgen/Git/webviz/backend/seismic_vds_slice.ipynb Cell 1\u001b[0m line \u001b[0;36m3\n\u001b[1;32m     <a href='vscode-notebook-cell://wsl%2Bubuntu/home/jorgen/Git/webviz/backend/seismic_vds_slice.ipynb#W0sdnNjb2RlLXJlbW90ZQ%3D%3D?line=32'>33</a>\u001b[0m seismic_access \u001b[39m=\u001b[39m SeismicAccess(sumo_client\u001b[39m=\u001b[39msumo_client, case\u001b[39m=\u001b[39mcase, case_uuid\u001b[39m=\u001b[39mcase_uuid, iteration_name\u001b[39m=\u001b[39miteration)\n\u001b[1;32m     <a href='vscode-notebook-cell://wsl%2Bubuntu/home/jorgen/Git/webviz/backend/seismic_vds_slice.ipynb#W0sdnNjb2RlLXJlbW90ZQ%3D%3D?line=34'>35</a>\u001b[0m vds_handle \u001b[39m=\u001b[39m \u001b[39mawait\u001b[39;00m seismic_access\u001b[39m.\u001b[39mget_vds_handle(seismic_attribute\u001b[39m=\u001b[39mcube_tagname,realization\u001b[39m=\u001b[39mrealization, time_or_interval_str\u001b[39m=\u001b[39mtimestamp)\n\u001b[0;32m---> <a href='vscode-notebook-cell://wsl%2Bubuntu/home/jorgen/Git/webviz/backend/seismic_vds_slice.ipynb#W0sdnNjb2RlLXJlbW90ZQ%3D%3D?line=35'>36</a>\u001b[0m vds_access \u001b[39m=\u001b[39m VdsAccess(vds_handle)\n\u001b[1;32m     <a href='vscode-notebook-cell://wsl%2Bubuntu/home/jorgen/Git/webviz/backend/seismic_vds_slice.ipynb#W0sdnNjb2RlLXJlbW90ZQ%3D%3D?line=39'>40</a>\u001b[0m x_points \u001b[39m=\u001b[39m [\u001b[39m463156.911\u001b[39m, \u001b[39m463564.402\u001b[39m, \u001b[39m463637.925\u001b[39m, \u001b[39m463690.658\u001b[39m, \u001b[39m463910.452\u001b[39m]\n\u001b[1;32m     <a href='vscode-notebook-cell://wsl%2Bubuntu/home/jorgen/Git/webviz/backend/seismic_vds_slice.ipynb#W0sdnNjb2RlLXJlbW90ZQ%3D%3D?line=40'>41</a>\u001b[0m y_points \u001b[39m=\u001b[39m [\u001b[39m5929542.294\u001b[39m, \u001b[39m5931057.803\u001b[39m, \u001b[39m5931184.235\u001b[39m, \u001b[39m5931278.837\u001b[39m, \u001b[39m5931688.122\u001b[39m]\n",
      "\u001b[0;31mTypeError\u001b[0m: VdsAccess.__init__() missing 1 required positional argument: 'vds_url'"
     ]
    }
   ],
   "source": [
    "# Set env variable before import of vds_access!\n",
    "import os\n",
    "os.environ[\"WEBVIZ_VDS_HOST_ADDRESS\"] = \"https://server-oneseismictest-dev.playground.radix.equinor.com\"\n",
    "\n",
    "from sumo.wrapper import SumoClient\n",
    "\n",
    "# from fmu.sumo.explorer import Explorer\n",
    "# from fmu.sumo.explorer.objects.cube_collection import CubeCollection\n",
    "from fmu.sumo.explorer.objects import CaseCollection\n",
    "\n",
    "from services.vds_access.vds_access import VdsAccess\n",
    "from services.sumo_access.seismic_access import SeismicAccess\n",
    "from services.vds_access.request_types import VdsCoordinates\n",
    "\n",
    "import numpy as np\n",
    "\n",
    "\n",
    "\n",
    "# Test data\n",
    "case_uuid = \"c619f32d-3ada-4e5e-8d3c-330f940e88f8\"\n",
    "realization = 0\n",
    "iteration = \"iter-0\"\n",
    "cube_tagname = \"amplitude_far_time\"\n",
    "timestep = None\n",
    "timestamp = \"2018-01-01T00:00:00\"\n",
    "observed = False\n",
    "\n",
    "sumo_client = SumoClient(env=\"prod\")\n",
    "case_collection = CaseCollection(sumo_client).filter(uuid=case_uuid) # Existing working case\n",
    "case = case_collection[0]\n",
    "\n",
    "# Setup\n",
    "seismic_access = SeismicAccess(sumo_client=sumo_client, case=case, case_uuid=case_uuid, iteration_name=iteration)\n",
    "\n",
    "vds_handle = await seismic_access.get_vds_handle(seismic_attribute=cube_tagname,realization=realization, time_or_interval_str=timestamp)\n",
    "vds_access = VdsAccess(sas_token=vds_handle.sas_token, vds_url=vds_handle.vds_url)\n",
    "\n",
    "\n",
    "\n",
    "x_points = [463156.911, 463564.402, 463637.925, 463690.658, 463910.452]\n",
    "y_points = [5929542.294, 5931057.803, 5931184.235, 5931278.837, 5931688.122]\n",
    "\n",
    "x_points = [463156.911, 463564.402, 463637.925, 463690.658]\n",
    "y_points = [5929542.294, 5931057.803, 5931184.235, 5931278.837,]\n",
    "\n",
    "result = await vds_access.get_fence(coordinates=VdsCoordinates(x_points=x_points, y_points=y_points))\n",
    "\n",
    "\n",
    "print(result.shape)\n",
    "display(result)\n",
    "\n",
    "\n"
   ]
  }
 ],
 "metadata": {
  "kernelspec": {
   "display_name": "backend-ODIrNPVE-py3.11",
   "language": "python",
   "name": "python3"
  },
  "language_info": {
   "codemirror_mode": {
    "name": "ipython",
    "version": 3
   },
   "file_extension": ".py",
   "mimetype": "text/x-python",
   "name": "python",
   "nbconvert_exporter": "python",
   "pygments_lexer": "ipython3",
   "version": "3.11.5"
  }
 },
 "nbformat": 4,
 "nbformat_minor": 2
}
